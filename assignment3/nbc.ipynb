{
 "cells": [
  {
   "cell_type": "code",
   "execution_count": 107,
   "metadata": {},
   "outputs": [],
   "source": [
    "import pandas as pd\n",
    "\n",
    "datapath = \"~/Documents/datasets/ford_sentence/\""
   ]
  },
  {
   "cell_type": "code",
   "execution_count": 108,
   "metadata": {},
   "outputs": [
    {
     "name": "stdout",
     "output_type": "stream",
     "text": [
      "59002\n"
     ]
    }
   ],
   "source": [
    "data = pd.read_csv(datapath + \"train_data.csv\", skip_blank_lines=True)\n",
    "data = data[data.New_Sentence.notna()]\n",
    "\n",
    "num_sentences = len(data.iloc[:])\n",
    "print(num_sentences)"
   ]
  },
  {
   "cell_type": "markdown",
   "metadata": {},
   "source": [
    "### Tracking number of occurences for each word"
   ]
  },
  {
   "cell_type": "code",
   "execution_count": 109,
   "metadata": {},
   "outputs": [],
   "source": [
    "vocab_all = {}\n",
    "\n",
    "for i, sentence in enumerate(data.New_Sentence):\n",
    "    for word in sentence.split():\n",
    "        word = word.lower()\n",
    "        if word in vocab_all:\n",
    "            vocab_all[word] += 1\n",
    "        else:\n",
    "            vocab_all[word] = 1\n"
   ]
  },
  {
   "cell_type": "markdown",
   "metadata": {},
   "source": [
    "### Omitting words that occure less than 5 times"
   ]
  },
  {
   "cell_type": "code",
   "execution_count": 110,
   "metadata": {},
   "outputs": [],
   "source": [
    "vocab = {}\n",
    "\n",
    "for key, val in vocab_all.items():\n",
    "    if val >= 5: vocab[key] = 0"
   ]
  },
  {
   "cell_type": "markdown",
   "metadata": {},
   "source": [
    "### Computing probability of occurence for every word"
   ]
  },
  {
   "cell_type": "code",
   "execution_count": 111,
   "metadata": {},
   "outputs": [],
   "source": [
    "for sentence in data.New_Sentence:\n",
    "    added = set()\n",
    "    for word in sentence.split():\n",
    "        word = word.lower()\n",
    "        if word in vocab.keys() and word not in added:\n",
    "            vocab[word] += 1        \n",
    "            added.add(word)\n",
    "\n",
    "for key in vocab.keys():\n",
    "    vocab[key] /= num_sentences"
   ]
  },
  {
   "cell_type": "code",
   "execution_count": null,
   "metadata": {},
   "outputs": [],
   "source": []
  }
 ],
 "metadata": {
  "kernelspec": {
   "display_name": "Python 3",
   "language": "python",
   "name": "python3"
  },
  "language_info": {
   "codemirror_mode": {
    "name": "ipython",
    "version": 3
   },
   "file_extension": ".py",
   "mimetype": "text/x-python",
   "name": "python",
   "nbconvert_exporter": "python",
   "pygments_lexer": "ipython3",
   "version": "3.10.8"
  },
  "orig_nbformat": 4,
  "vscode": {
   "interpreter": {
    "hash": "e7370f93d1d0cde622a1f8e1c04877d8463912d04d973331ad4851f04de6915a"
   }
  }
 },
 "nbformat": 4,
 "nbformat_minor": 2
}
