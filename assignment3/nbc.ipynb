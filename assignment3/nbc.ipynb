{
 "cells": [
  {
   "cell_type": "markdown",
   "metadata": {},
   "source": [
    "### Load data"
   ]
  },
  {
   "cell_type": "code",
   "execution_count": 532,
   "metadata": {},
   "outputs": [],
   "source": [
    "import pandas as pd\n",
    "import re\n",
    "import math\n",
    "\n",
    "datapath = \"~/Documents/datasets/ford_sentence/data.csv\"\n",
    "data = pd.read_csv(datapath, skip_blank_lines=True)\n",
    "data = data.dropna(how=\"any\")\n",
    "\n",
    "size = data.shape[0]\n",
    "train_data = data.loc[:int(0.6 * size)]\n",
    "val_data = data.loc[int(0.6 * size):int(0.8 * size)]\n",
    "test_data = data.loc[int(0.8 * size):]"
   ]
  },
  {
   "cell_type": "markdown",
   "metadata": {},
   "source": [
    "### Building Naive Bayes Classifier"
   ]
  },
  {
   "cell_type": "code",
   "execution_count": 546,
   "metadata": {},
   "outputs": [],
   "source": [
    "class NBC():\n",
    "    def __init__(self, train_data, smoothing=True, alpha=1) -> None:\n",
    "        assert alpha > 0, \"Alpha must be greater than 0\"\n",
    "\n",
    "        self.regex = re.compile('[^a-zA-Z ]')\n",
    "        self.alpha = alpha\n",
    "        self.smoothing = smoothing\n",
    "        self.class_tables = self.separate_by_class(train_data)\n",
    "        self.priors = self.compute_priors(train_data)\n",
    "        self.n_classes = len(self.priors.keys())\n",
    "        self.occurences = self.compute_occurences()\n",
    "\n",
    "    def separate_by_class(self, train_data):\n",
    "        class_tables = {}\n",
    "\n",
    "        for type in train_data.Type:\n",
    "            if type not in class_tables:\n",
    "                class_tables[type] = train_data.loc[train_data.Type == type]\n",
    "        \n",
    "        return class_tables\n",
    "\n",
    "    def compute_priors(self, train_data):\n",
    "        priors = {}\n",
    "\n",
    "        for class_type, class_data in self.class_tables.items():\n",
    "            priors[class_type] = class_data.shape[0] / train_data.shape[0]\n",
    "        \n",
    "        return priors\n",
    "    \n",
    "    def compute_occurences(self):\n",
    "        vocab_class = {}\n",
    "\n",
    "        for class_type, class_data in self.class_tables.items():\n",
    "            vocab_class[class_type] = {}\n",
    "            for sentence in class_data.New_Sentence:\n",
    "                sentence = sentence.lower()\n",
    "                sentence = self.regex.sub(' ', sentence)\n",
    "                for word in sentence.split():\n",
    "                    if word in vocab_class[class_type]:\n",
    "                        vocab_class[class_type][word] += 1\n",
    "                    else:\n",
    "                        vocab_class[class_type][word] = 1\n",
    "            omitted_vocab = {\n",
    "                key : 0 for key, val in vocab_class[class_type].items() if val >= 5\n",
    "            }\n",
    "            vocab_class[class_type] = omitted_vocab\n",
    "\n",
    "        for class_type, class_data in self.class_tables.items():\n",
    "            class_size = len(class_data.New_Sentence)\n",
    "            vocab = vocab_class[class_type]\n",
    "\n",
    "            for sentence in class_data.New_Sentence:\n",
    "                added = set()\n",
    "                sentence = sentence.lower()\n",
    "                sentence = self.regex.sub(' ', sentence)\n",
    "                for word in sentence.split():\n",
    "                    if word in vocab.keys() and word not in added:\n",
    "                        vocab[word] += 1        \n",
    "                    added.add(word)\n",
    "            for word in vocab.keys():\n",
    "                vocab[word] += self.alpha\n",
    "                vocab[word] /= (self.alpha * self.n_classes + class_size)\n",
    "            vocab_class[class_type] = {\n",
    "                k: v for k, v in sorted(vocab.items(), key=lambda item: item[1], reverse=True)\n",
    "            } \n",
    "\n",
    "        return vocab_class\n",
    "\n",
    "    def __call__(self, sentence):\n",
    "        max_a_posteriori = (None, 0)\n",
    "\n",
    "        for class_type, prior in self.priors.items():\n",
    "            sentence = sentence.lower()\n",
    "            sentence = self.regex.sub(' ', sentence)\n",
    "            likelihood = prior\n",
    "            class_size = len(self.occurences[class_type].keys())\n",
    "\n",
    "            for word in sentence.split():\n",
    "                if word in self.occurences[class_type]:\n",
    "                    likelihood *= self.occurences[class_type][word] \n",
    "                elif self.smoothing:\n",
    "                    likelihood *= self.alpha / (self.alpha * self.n_classes + class_size)\n",
    "                else:\n",
    "                    likelihood *= 0\n",
    "\n",
    "            if likelihood > max_a_posteriori[1]:\n",
    "                max_a_posteriori = (class_type, likelihood)\n",
    "        \n",
    "        return max_a_posteriori"
   ]
  },
  {
   "cell_type": "markdown",
   "metadata": {},
   "source": [
    "### Model Evaluation"
   ]
  },
  {
   "cell_type": "code",
   "execution_count": 547,
   "metadata": {},
   "outputs": [],
   "source": [
    "def eval(model, data):\n",
    "    score = 0\n",
    "\n",
    "    for i in range(data.shape[0]):\n",
    "        pred, _ = model(data.iloc[i].New_Sentence)\n",
    "        score += pred == data.iloc[i].Type\n",
    "\n",
    "    return score / data.shape[0]"
   ]
  },
  {
   "cell_type": "code",
   "execution_count": 515,
   "metadata": {},
   "outputs": [
    {
     "name": "stdout",
     "output_type": "stream",
     "text": [
      "Accuracy: 0.3841437084376889 \n"
     ]
    }
   ],
   "source": [
    "model = NBC(train_data, smoothing=False)\n",
    "print(f\"Accuracy: {eval(model, val_data)} \")"
   ]
  },
  {
   "cell_type": "code",
   "execution_count": 548,
   "metadata": {},
   "outputs": [
    {
     "name": "stdout",
     "output_type": "stream",
     "text": [
      "Accuracy: 0.6546333880300544 \n"
     ]
    }
   ],
   "source": [
    "model = NBC(train_data, smoothing=True)\n",
    "print(f\"Accuracy: {eval(model, val_data)} \")"
   ]
  },
  {
   "cell_type": "code",
   "execution_count": 549,
   "metadata": {},
   "outputs": [],
   "source": [
    "def class_perf(model, data):\n",
    "    class_performance = {}\n",
    "    for class_type in model.priors.keys():\n",
    "        class_performance[class_type] = eval(model, val_data[val_data.Type == class_type])\n",
    "\n",
    "    df_perf = pd.Series(class_performance)\n",
    "    print(\"Accuracy by class:\")\n",
    "    print(df_perf)"
   ]
  },
  {
   "cell_type": "code",
   "execution_count": 550,
   "metadata": {},
   "outputs": [
    {
     "name": "stdout",
     "output_type": "stream",
     "text": [
      "Accuracy by class:\n",
      "Responsibility    0.882784\n",
      "Requirement       0.320044\n",
      "Skill             0.383171\n",
      "SoftSkill         0.642973\n",
      "Education         0.860045\n",
      "Experience        0.898190\n",
      "dtype: float64\n"
     ]
    }
   ],
   "source": [
    "class_perf(model, val_data)"
   ]
  },
  {
   "cell_type": "code",
   "execution_count": 551,
   "metadata": {},
   "outputs": [
    {
     "data": {
      "text/html": [
       "<div>\n",
       "<style scoped>\n",
       "    .dataframe tbody tr th:only-of-type {\n",
       "        vertical-align: middle;\n",
       "    }\n",
       "\n",
       "    .dataframe tbody tr th {\n",
       "        vertical-align: top;\n",
       "    }\n",
       "\n",
       "    .dataframe thead th {\n",
       "        text-align: right;\n",
       "    }\n",
       "</style>\n",
       "<table border=\"1\" class=\"dataframe\">\n",
       "  <thead>\n",
       "    <tr style=\"text-align: right;\">\n",
       "      <th></th>\n",
       "      <th>Responsibility</th>\n",
       "      <th>Requirement</th>\n",
       "      <th>Skill</th>\n",
       "      <th>SoftSkill</th>\n",
       "      <th>Education</th>\n",
       "      <th>Experience</th>\n",
       "    </tr>\n",
       "  </thead>\n",
       "  <tbody>\n",
       "    <tr>\n",
       "      <th>1</th>\n",
       "      <td>and</td>\n",
       "      <td>and</td>\n",
       "      <td>and</td>\n",
       "      <td>and</td>\n",
       "      <td>in</td>\n",
       "      <td>experience</td>\n",
       "    </tr>\n",
       "    <tr>\n",
       "      <th>2</th>\n",
       "      <td>to</td>\n",
       "      <td>to</td>\n",
       "      <td>experience</td>\n",
       "      <td>to</td>\n",
       "      <td>degree</td>\n",
       "      <td>years</td>\n",
       "    </tr>\n",
       "    <tr>\n",
       "      <th>3</th>\n",
       "      <td>the</td>\n",
       "      <td>in</td>\n",
       "      <td>in</td>\n",
       "      <td>skills</td>\n",
       "      <td>or</td>\n",
       "      <td>of</td>\n",
       "    </tr>\n",
       "    <tr>\n",
       "      <th>4</th>\n",
       "      <td>of</td>\n",
       "      <td>experience</td>\n",
       "      <td>of</td>\n",
       "      <td>ability</td>\n",
       "      <td>engineering</td>\n",
       "      <td>in</td>\n",
       "    </tr>\n",
       "    <tr>\n",
       "      <th>5</th>\n",
       "      <td>with</td>\n",
       "      <td>of</td>\n",
       "      <td>with</td>\n",
       "      <td>with</td>\n",
       "      <td>bachelors</td>\n",
       "      <td>and</td>\n",
       "    </tr>\n",
       "    <tr>\n",
       "      <th>6</th>\n",
       "      <td>for</td>\n",
       "      <td>with</td>\n",
       "      <td>knowledge</td>\n",
       "      <td>in</td>\n",
       "      <td>science</td>\n",
       "      <td>or</td>\n",
       "    </tr>\n",
       "    <tr>\n",
       "      <th>7</th>\n",
       "      <td>in</td>\n",
       "      <td>ability</td>\n",
       "      <td>a</td>\n",
       "      <td>a</td>\n",
       "      <td>computer</td>\n",
       "      <td>with</td>\n",
       "    </tr>\n",
       "    <tr>\n",
       "      <th>8</th>\n",
       "      <td>a</td>\n",
       "      <td>a</td>\n",
       "      <td>to</td>\n",
       "      <td>communication</td>\n",
       "      <td>a</td>\n",
       "      <td>a</td>\n",
       "    </tr>\n",
       "    <tr>\n",
       "      <th>9</th>\n",
       "      <td>business</td>\n",
       "      <td>the</td>\n",
       "      <td>or</td>\n",
       "      <td>strong</td>\n",
       "      <td>and</td>\n",
       "      <td>minimum</td>\n",
       "    </tr>\n",
       "    <tr>\n",
       "      <th>10</th>\n",
       "      <td>on</td>\n",
       "      <td>or</td>\n",
       "      <td>management</td>\n",
       "      <td>of</td>\n",
       "      <td>related</td>\n",
       "      <td>management</td>\n",
       "    </tr>\n",
       "  </tbody>\n",
       "</table>\n",
       "</div>"
      ],
      "text/plain": [
       "   Responsibility Requirement       Skill      SoftSkill    Education  \\\n",
       "1             and         and         and            and           in   \n",
       "2              to          to  experience             to       degree   \n",
       "3             the          in          in         skills           or   \n",
       "4              of  experience          of        ability  engineering   \n",
       "5            with          of        with           with    bachelors   \n",
       "6             for        with   knowledge             in      science   \n",
       "7              in     ability           a              a     computer   \n",
       "8               a           a          to  communication            a   \n",
       "9        business         the          or         strong          and   \n",
       "10             on          or  management             of      related   \n",
       "\n",
       "    Experience  \n",
       "1   experience  \n",
       "2        years  \n",
       "3           of  \n",
       "4           in  \n",
       "5          and  \n",
       "6           or  \n",
       "7         with  \n",
       "8            a  \n",
       "9      minimum  \n",
       "10  management  "
      ]
     },
     "execution_count": 551,
     "metadata": {},
     "output_type": "execute_result"
    }
   ],
   "source": [
    "top_words = {}\n",
    "for class_type, class_occ in model.occurences.items():\n",
    "    top_words[class_type] = [*class_occ.keys()][:10]\n",
    "\n",
    "top_class_words = pd.DataFrame(top_words)\n",
    "top_class_words.index += 1\n",
    "top_class_words"
   ]
  },
  {
   "cell_type": "code",
   "execution_count": 562,
   "metadata": {},
   "outputs": [],
   "source": [
    "import copy\n",
    "\n",
    "model_copy = copy.deepcopy(model)\n",
    "req = model_copy.occurences[\"Requirement\"]\n",
    "\n",
    "ignore = [\"and\", \"with\", \"in\", \"of\", \"or\", \"experience\"]\n",
    "for word in ignore:\n",
    "    req[word] = 1"
   ]
  },
  {
   "cell_type": "code",
   "execution_count": 563,
   "metadata": {},
   "outputs": [
    {
     "name": "stdout",
     "output_type": "stream",
     "text": [
      "Accuracy: 0.6897832282580534 \n",
      "Accuracy by class:\n",
      "Responsibility    0.856810\n",
      "Requirement       0.607169\n",
      "Skill             0.311044\n",
      "SoftSkill         0.572429\n",
      "Education         0.838600\n",
      "Experience        0.867647\n",
      "dtype: float64\n"
     ]
    }
   ],
   "source": [
    "print(f\"Accuracy: {eval(model_copy, val_data)} \")\n",
    "class_perf(model_copy, val_data)"
   ]
  },
  {
   "cell_type": "code",
   "execution_count": 564,
   "metadata": {},
   "outputs": [
    {
     "name": "stdout",
     "output_type": "stream",
     "text": [
      "Accuracy: 0.650967996839194 \n",
      "Accuracy: 0.6809956538917424 \n"
     ]
    }
   ],
   "source": [
    "print(f\"Accuracy: {eval(model, test_data)} \")\n",
    "print(f\"Accuracy: {eval(model_copy, test_data)} \")"
   ]
  },
  {
   "cell_type": "code",
   "execution_count": null,
   "metadata": {},
   "outputs": [],
   "source": []
  }
 ],
 "metadata": {
  "kernelspec": {
   "display_name": "Python 3",
   "language": "python",
   "name": "python3"
  },
  "language_info": {
   "codemirror_mode": {
    "name": "ipython",
    "version": 3
   },
   "file_extension": ".py",
   "mimetype": "text/x-python",
   "name": "python",
   "nbconvert_exporter": "python",
   "pygments_lexer": "ipython3",
   "version": "3.10.8"
  },
  "orig_nbformat": 4,
  "vscode": {
   "interpreter": {
    "hash": "e7370f93d1d0cde622a1f8e1c04877d8463912d04d973331ad4851f04de6915a"
   }
  }
 },
 "nbformat": 4,
 "nbformat_minor": 2
}
