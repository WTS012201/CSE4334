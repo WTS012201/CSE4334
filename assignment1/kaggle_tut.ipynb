{
 "cells": [
  {
   "cell_type": "markdown",
   "metadata": {},
   "source": [
    "### **Introduction**\n",
    "\n",
    "Kaggle's **Titanic - Machine Learning from Disaster** is a classic introductory problem for getting familiar with the fundamentals of machine learning.\n",
    "In this notebook..."
   ]
  },
  {
   "cell_type": "markdown",
   "metadata": {},
   "source": [
    "\n",
    "### **Where to start?**\n",
    "\n",
    "https://www.kaggle.com/code/alexisbcook/titanic-tutorial/notebook\n",
    "\n",
    "Alexis provides a brief introduction for making a submission to kaggle with some sample code for this challenge. She uses a random forest classifier for the model in her example."
   ]
  },
  {
   "cell_type": "code",
   "execution_count": 7,
   "metadata": {},
   "outputs": [],
   "source": [
    "import numpy as np\n",
    "import pandas as pd\n",
    "import matplotlib.pyplot as plt\n",
    "from sklearn.ensemble import RandomForestClassifier\n",
    "import os\n",
    "\n",
    "PATH = \"../input/titanic/\" # file path to the datasets\n",
    "\n",
    "for dirname, _, filenames in os.walk('PATH'):\n",
    "    for filename in filenames:\n",
    "        print(os.path.join(dirname, filename))"
   ]
  },
  {
   "cell_type": "markdown",
   "metadata": {},
   "source": [
    "Load Datasets"
   ]
  },
  {
   "cell_type": "code",
   "execution_count": 8,
   "metadata": {},
   "outputs": [],
   "source": [
    "train_data = pd.read_csv(PATH + \"train.csv\")\n",
    "test_data = pd.read_csv(PATH + \"test.csv\")"
   ]
  },
  {
   "cell_type": "code",
   "execution_count": 9,
   "metadata": {},
   "outputs": [
    {
     "name": "stdout",
     "output_type": "stream",
     "text": [
      "Your submission was successfully saved!\n"
     ]
    }
   ],
   "source": [
    "\n",
    "y = train_data[\"Survived\"]\n",
    "\n",
    "features = [\"Pclass\", \"Sex\", \"SibSp\", \"Parch\"]\n",
    "X = pd.get_dummies(train_data[features])\n",
    "X_test = pd.get_dummies(test_data[features])\n",
    "\n",
    "model_orignial = RandomForestClassifier(n_estimators=100, max_depth=5, random_state=1)\n",
    "model_orignial.fit(X, y)\n",
    "predictions = model_orignial.predict(X_test)\n",
    "\n",
    "output = pd.DataFrame({'PassengerId': test_data.PassengerId, 'Survived': predictions})\n",
    "output.to_csv('submission.csv', index=False)\n",
    "print(\"Your submission was successfully saved!\")"
   ]
  },
  {
   "cell_type": "markdown",
   "metadata": {},
   "source": [
    "### Results\n",
    "The submission of this model resulted in a score of 0.77511"
   ]
  },
  {
   "cell_type": "markdown",
   "metadata": {},
   "source": [
    "### **Contribution**\n",
    "<!-- We can start with this as our baseline and change a few things to see if we \n",
    "get a better result. The first and easisest thing to do is tune the hyperparameters for the Random Forest Classifier and compare the results with the original submission. -->\n",
    "### Part 1\n",
    "We can start by looking for entries in the dataset that we can dropout or modify to improve the performance of the model (explain). There are no duplicates in the dataset based on the given description of the passenger ID column which is unique to every entry and not null. There are missing values in other columns that we can explore."
   ]
  },
  {
   "cell_type": "code",
   "execution_count": 164,
   "metadata": {},
   "outputs": [
    {
     "name": "stdout",
     "output_type": "stream",
     "text": [
      "Total number of rows: 1309\n",
      "\n",
      "Survived     418\n",
      "Age          263\n",
      "Fare           1\n",
      "Cabin       1014\n",
      "Embarked       2\n",
      "Name: missing values, dtype: int64\n"
     ]
    },
    {
     "data": {
      "image/png": "[encoded data removed]",
      "text/plain": [
       "<Figure size 432x288 with 1 Axes>"
      ]
     },
     "metadata": {},
     "output_type": "display_data"
    }
   ],
   "source": [
    "data = pd.concat([train_data, test_data])\n",
    "\n",
    "missing_vals = [data[col].isnull().sum() for col in data.columns.to_list()]\n",
    "labels = data.columns.to_list()\n",
    "ser = pd.Series(data=missing_vals, index=labels, name=\"missing values\")\n",
    "ser_missing = ser[ser > 0]\n",
    "\n",
    "percentages = ser_missing.apply(lambda x: x / data.shape[0])\n",
    "fig1, ax1 = plt.subplots()\n",
    "ax1.pie(percentages.values, labels=percentages.index, autopct='%1.2f%%',\n",
    "        shadow=True, startangle=90, labeldistance=1.1)\n",
    "ax1.axis('equal')\n",
    "\n",
    "print(f\"Total number of rows: {data.shape[0]}\\n\\n{ser_missing}\")\n",
    "plt.show()\n"
   ]
  },
  {
   "cell_type": "markdown",
   "metadata": {},
   "source": [
    "Since the number of missing values for `Fare` and `Embarked` column is negligible, it is best to simply drop these entries from our dataset. However, there are a considerable amount of missing values for the `Survived`, `Age`, and `Cabin` columns. A convenient approach to this problem would be to fill the missing values with the mean of the column."
   ]
  },
  {
   "cell_type": "markdown",
   "metadata": {},
   "source": []
  }
 ],
 "metadata": {
  "kernelspec": {
   "display_name": "Python 3.10.7 64-bit",
   "language": "python",
   "name": "python3"
  },
  "language_info": {
   "codemirror_mode": {
    "name": "ipython",
    "version": 3
   },
   "file_extension": ".py",
   "mimetype": "text/x-python",
   "name": "python",
   "nbconvert_exporter": "python",
   "pygments_lexer": "ipython3",
   "version": "3.10.7"
  },
  "orig_nbformat": 4,
  "vscode": {
   "interpreter": {
    "hash": "e7370f93d1d0cde622a1f8e1c04877d8463912d04d973331ad4851f04de6915a"
   }
  }
 },
 "nbformat": 4,
 "nbformat_minor": 2
}
