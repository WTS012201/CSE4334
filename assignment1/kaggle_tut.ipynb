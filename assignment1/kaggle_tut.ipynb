{
 "cells": [
  {
   "cell_type": "markdown",
   "metadata": {},
   "source": [
    "### **Introduction**\n",
    "\n",
    "Kaggle's **Titanic - Machine Learning from Disaster** is a classic introductory problem for getting familiar with the fundamentals of machine learning. Here's a quick run-through on how I tuned some features to improve a model."
   ]
  },
  {
   "cell_type": "markdown",
   "metadata": {},
   "source": [
    "\n",
    "### **Where to start?**\n",
    "\n",
    "https://www.kaggle.com/code/alexisbcook/titanic-tutorial/notebook\n",
    "\n",
    "Alexis provides a brief introduction for making a submission to kaggle with some sample code for this challenge. She uses a random forest classifier for the model in her example."
   ]
  },
  {
   "cell_type": "code",
   "execution_count": 14,
   "metadata": {},
   "outputs": [],
   "source": [
    "import numpy as np\n",
    "import pandas as pd\n",
    "import matplotlib.pyplot as plt\n",
    "from sklearn.ensemble import RandomForestClassifier\n",
    "import os\n",
    "\n",
    "PATH = \"../input/titanic/\" # file path to the datasets\n",
    "\n",
    "for dirname, _, filenames in os.walk('PATH'):\n",
    "    for filename in filenames:\n",
    "        print(os.path.join(dirname, filename))"
   ]
  },
  {
   "cell_type": "markdown",
   "metadata": {},
   "source": [
    "Load Datasets"
   ]
  },
  {
   "cell_type": "code",
   "execution_count": 15,
   "metadata": {},
   "outputs": [],
   "source": [
    "### Load Datasets\n",
    "train_data = pd.read_csv(PATH + \"train.csv\")\n",
    "test_data = pd.read_csv(PATH + \"test.csv\")"
   ]
  },
  {
   "cell_type": "code",
   "execution_count": 16,
   "metadata": {},
   "outputs": [],
   "source": [
    "y = train_data[\"Survived\"]\n",
    "\n",
    "features = [\"Pclass\", \"Sex\", \"SibSp\", \"Parch\"]\n",
    "X = pd.get_dummies(train_data[features])\n",
    "X_test = pd.get_dummies(test_data[features])\n",
    "\n",
    "model = RandomForestClassifier(n_estimators=100, max_depth=5, random_state=1)\n",
    "model.fit(X, y)\n",
    "predictions = model.predict(X_test)\n",
    "\n",
    "output = pd.DataFrame({'PassengerId': test_data.PassengerId, 'Survived': predictions})\n",
    "output.to_csv('submission.csv', index=False)"
   ]
  },
  {
   "cell_type": "markdown",
   "metadata": {},
   "source": [
    "### Results\n",
    "The submission of this model resulted in a score of 0.77511"
   ]
  },
  {
   "cell_type": "markdown",
   "metadata": {},
   "source": [
    "### **Contribution**\n",
    "<!-- We can start with this as our baseline and change a few things to see if we \n",
    "get a better result. The first and easisest thing to do is tune the hyperparameters for the Random Forest Classifier and compare the results with the original submission. -->\n",
    "\n",
    "We can start by looking for entries in the dataset to dropout or modify to improve the performance of the model. The passenger ID contains a unique and non-null value which means that there will be no duplicates to drop. There are missing values in other columns that we can explore."
   ]
  },
  {
   "cell_type": "code",
   "execution_count": 17,
   "metadata": {},
   "outputs": [
    {
     "name": "stdout",
     "output_type": "stream",
     "text": [
      "Total number of rows: 1309\n",
      "\n",
      "Age          263\n",
      "Fare           1\n",
      "Cabin       1014\n",
      "Embarked       2\n",
      "Name: by amount, dtype: int64         \n",
      "\n",
      "Age         20.09 \n",
      "Fare         0.08 \n",
      "Cabin       77.46 \n",
      "Embarked     0.15 \n",
      "Name: by percent, dtype: object\n"
     ]
    }
   ],
   "source": [
    "data_list = [train_data.drop(\"Survived\", axis=1), test_data]\n",
    "data_list = [train_data, test_data]\n",
    "for i, dl in enumerate(data_list):\n",
    "        data_list[i].Sex = dl.Sex.apply(lambda sex: 0 if sex == \"male\" else 1)\n",
    "all_data = pd.concat(data_list)\n",
    "\n",
    "missing_vals = [all_data[col].isnull().sum() for col in all_data.columns.to_list()]\n",
    "labels = all_data.columns.to_list()\n",
    "ser = pd.Series(data=missing_vals, index=labels, name=\"by amount\")\n",
    "ser_missing = ser[ser > 0].drop(\"Survived\", axis=0)\n",
    "\n",
    "percentages = ser_missing.apply(lambda x: \"%.2f \" % (x * 100 / all_data.shape[0]))\n",
    "percentages.name = \"by percent\"\n",
    "print(f\"Total number of rows: {all_data.shape[0]}\\n\\n{ser_missing} \\\n",
    "        \\n\\n{percentages}\")\n",
    "plt.show()\n"
   ]
  },
  {
   "cell_type": "markdown",
   "metadata": {},
   "source": [
    "Since the number of missing values for `Fare` and `Embarked` column is negligible, it is best to simply drop these entries from the dataset. However, there are a considerable amount of missing values for the `Age` and `Cabin` columns. A naive approach for filling in the missing values for the columns would be to fill them in with the mean, median, or mode of the column. The better approach is to look at the relationships between `Age` and the other columns, then determine how to replace the missing values. We can apply the same principle for the `Cabin` column.\n",
    "\n",
    "The format of the cabin data will need to be changed. The cabin data is given as `{Cabin Type}{Room Number}`. The room number can be discarded but since the cabin type likely has some influence on rather a passenger survives, it should be included. To check this, we'll look at the relationship between the cabin type and survival"
   ]
  },
  {
   "cell_type": "code",
   "execution_count": 18,
   "metadata": {},
   "outputs": [
    {
     "name": "stdout",
     "output_type": "stream",
     "text": [
      "               Age     Cabin\n",
      "Survived -0.077221  0.287944\n",
      "Pclass   -0.408106 -0.563667\n",
      "Sex      -0.063645  0.133479\n",
      "Age       1.000000  0.205097\n",
      "SibSp    -0.243699 -0.009317\n",
      "Parch    -0.150917  0.034465\n",
      "Cabin     0.205097  1.000000\n"
     ]
    }
   ],
   "source": [
    "pd.options.mode.chained_assignment = None\n",
    "### Note: You would drop the Fare and Embarked null values\n",
    "    # dl = dl[dl[\"Fare\"].notna() & dl[\"Embarked\"].notna()]\n",
    "    # but for the competition these entries are required.\n",
    "\n",
    "    # I'll fill the `Fare` Column in with the median\n",
    "    # and bin the values for the `Fare` Column.\n",
    "for i, dl in enumerate(data_list):\n",
    "    dl[\"Fare\"] = dl[\"Fare\"].fillna(dl[\"Fare\"].median())\n",
    "    dl[\"Fare\"] = pd.qcut(dl[\"Fare\"], q=4, labels=['A','B','C','D'])\n",
    "\n",
    "    dl[\"Embarked\"] = dl[\"Embarked\"].fillna(\"S\")\n",
    "    dl[\"Cabin\"] = dl[\"Cabin\"].apply(lambda x: x[0] if pd.notna(x) else x)\n",
    "    dl[\"Cabin\"] = dl[\"Cabin\"].astype('category').cat.codes\n",
    "    data_list[i] = dl\n",
    "all_data = pd.concat(data_list)\n",
    "\n",
    "corr = all_data.corr()[[\"Age\", \"Cabin\"]].drop(\"PassengerId\", axis=0)\n",
    "print(corr)"
   ]
  },
  {
   "cell_type": "code",
   "execution_count": 19,
   "metadata": {},
   "outputs": [
    {
     "data": {
      "image/png": "[encoded data removed]",
      "text/plain": [
       "<Figure size 720x504 with 1 Axes>"
      ]
     },
     "metadata": {
      "needs_background": "light"
     },
     "output_type": "display_data"
    }
   ],
   "source": [
    "train_data_copy = train_data.copy()\n",
    "train_data_copy[\"Cabin\"] = train_data_copy[\"Cabin\"].astype('category').cat.codes\n",
    "group_survive = train_data_copy.groupby(\"Cabin\")[\"Survived\"].sum()\n",
    "goup_count = train_data_copy.groupby(\"Cabin\")[\"Survived\"].count()\n",
    "\n",
    "percentages = []\n",
    "for (u, v) in zip(group_survive, goup_count):\n",
    "    percentages.append(u / v * 100)\n",
    "\n",
    "fig = plt.figure(figsize =(10, 7))\n",
    "plt.bar(group_survive.index, percentages)\n",
    "plt.xlabel(\"Cabin type\")\n",
    "plt.ylabel(\"% Survived\")\n",
    "plt.axis([-1, 8, 0, 100])\n",
    "plt.show()"
   ]
  },
  {
   "cell_type": "markdown",
   "metadata": {},
   "source": [
    "`Pclass` appears to have a high influence on `Age` and `Cabin` column. This information can be applied to extract finer approximations based on the `Pclass` to replace the missing entries as opposed to a \"one fits all\" approximation."
   ]
  },
  {
   "cell_type": "code",
   "execution_count": 7,
   "metadata": {},
   "outputs": [
    {
     "data": {
      "text/plain": [
       "Cabin\n",
       "-1    3\n",
       " 0    1\n",
       " 1    1\n",
       " 2    1\n",
       " 3    1\n",
       " 4    1\n",
       " 5    2\n",
       " 6    3\n",
       " 7    1\n",
       "Name: Pclass, dtype: int64"
      ]
     },
     "execution_count": 7,
     "metadata": {},
     "output_type": "execute_result"
    }
   ],
   "source": [
    "age_group = all_data.groupby([\"Pclass\"])[\"Age\"].mean().astype(int)\n",
    "cabin_group = all_data.groupby([\"Cabin\"])[\"Pclass\"].agg(pd.Series.mode)\n",
    "\n",
    "for i in all_data[all_data[\"Age\"].isna()].index:\n",
    "    Pclass = all_data.iloc[i].Pclass\n",
    "    all_data.loc[i, \"Age\"] = round(age_group[Pclass])\n",
    "    \n",
    "cabin_group"
   ]
  },
  {
   "cell_type": "markdown",
   "metadata": {},
   "source": [
    "Looking at the % survived chart and how the `Cabin` relates to `Pclass`, we can reasonably assume that cabin 1, 3, 4, are roughly the same. We'll bin these cabins and the remaining cabins will go in a seperate bin. A `PClass` of 1 will belong to the first bin and anything else belongs to the second bin."
   ]
  },
  {
   "cell_type": "code",
   "execution_count": 8,
   "metadata": {},
   "outputs": [
    {
     "data": {
      "text/plain": [
       "PassengerId    0\n",
       "Pclass         0\n",
       "Name           0\n",
       "Sex            0\n",
       "Age            0\n",
       "SibSp          0\n",
       "Parch          0\n",
       "Ticket         0\n",
       "Fare           0\n",
       "Cabin          0\n",
       "Embarked       0\n",
       "Name: by amount, dtype: int64"
      ]
     },
     "execution_count": 8,
     "metadata": {},
     "output_type": "execute_result"
    }
   ],
   "source": [
    "all_data['Cabin'] = all_data['Cabin'].replace([1,3,4], 0)\n",
    "all_data['Cabin'] = all_data['Cabin'].replace([0,2,5,6,7], 1)\n",
    "for i in all_data[all_data[\"Cabin\"] == -1].index:\n",
    "    Pclass = all_data.iloc[i].Pclass\n",
    "    all_data.loc[i, \"Cabin\"] = 0 if Pclass == 1 else 1\n",
    "\n",
    "missing_vals = [all_data[col].isnull().sum() for col in all_data.columns.to_list()]\n",
    "labels = all_data.columns.to_list()\n",
    "ser = pd.Series(data=missing_vals, index=labels, name=\"by amount\").drop(\"Survived\", axis=0)\n",
    "ser"
   ]
  },
  {
   "cell_type": "markdown",
   "metadata": {},
   "source": [
    "Now that there are no more missing values, we can add the `Age` and `Cabin` columns to the features for the original model."
   ]
  },
  {
   "cell_type": "code",
   "execution_count": 9,
   "metadata": {},
   "outputs": [],
   "source": [
    "def train(features):\n",
    "    train_data = all_data[all_data[\"Survived\"].notna()]\n",
    "    test_data = all_data[all_data[\"Survived\"].isna()]\n",
    "\n",
    "    y = train_data[\"Survived\"]\n",
    "\n",
    "    X = pd.get_dummies(train_data[features])\n",
    "    X_test = pd.get_dummies(test_data[features])\n",
    "\n",
    "\n",
    "    model = RandomForestClassifier(n_estimators=100, max_depth=5, random_state=1)\n",
    "    model.fit(X, y)\n",
    "    predictions = model.predict(X_test)\n",
    "\n",
    "    output = pd.DataFrame({'PassengerId': test_data.PassengerId, 'Survived': predictions.astype(int)})\n",
    "    output.to_csv('new_submission.csv', index=False)"
   ]
  },
  {
   "cell_type": "markdown",
   "metadata": {},
   "source": [
    "### **Scores**\n",
    "Original Score: 0.77511"
   ]
  },
  {
   "cell_type": "code",
   "execution_count": 10,
   "metadata": {},
   "outputs": [],
   "source": [
    "train([\"Pclass\", \"Sex\", \"SibSp\", \"Parch\", \"Cabin\", \"Age\"])"
   ]
  },
  {
   "cell_type": "markdown",
   "metadata": {},
   "source": [
    "Score 0.78468"
   ]
  },
  {
   "cell_type": "code",
   "execution_count": 12,
   "metadata": {},
   "outputs": [],
   "source": [
    "train([\"Pclass\", \"Sex\", \"SibSp\", \"Parch\", \"Age\", \"Fare\", \"Embarked\"])"
   ]
  },
  {
   "cell_type": "markdown",
   "metadata": {},
   "source": [
    "Score: 0.78708"
   ]
  },
  {
   "cell_type": "code",
   "execution_count": 13,
   "metadata": {},
   "outputs": [],
   "source": [
    "train([\"Pclass\", \"Sex\", \"SibSp\", \"Parch\", \"Fare\", \"Embarked\"])"
   ]
  },
  {
   "cell_type": "markdown",
   "metadata": {},
   "source": [
    "Score: 0.76555"
   ]
  },
  {
   "cell_type": "markdown",
   "metadata": {},
   "source": [
    "### **Conclusion**\n",
    "\n",
    "Without tuning any of the hyperparameters for the given model, I was able to slightly improve the model by including some of the features that were initially incompatible with the `Random Forest Classifier`. Adding just `Fare` and `Embarked` resulted in a lower score. Additionally, removing `Cabin` and including the rest of the features resulted in the best score. Doing further data analysis and engineering on the features may result in meaningful changes to the scores, but changing the hyperparameters for the RFC or experimenting with other types of models is likely the better approach to improving the scores at this point."
   ]
  }
 ],
 "metadata": {
  "kernelspec": {
   "display_name": "Python 3.10.7 64-bit",
   "language": "python",
   "name": "python3"
  },
  "language_info": {
   "codemirror_mode": {
    "name": "ipython",
    "version": 3
   },
   "file_extension": ".py",
   "mimetype": "text/x-python",
   "name": "python",
   "nbconvert_exporter": "python",
   "pygments_lexer": "ipython3",
   "version": "3.10.7"
  },
  "orig_nbformat": 4,
  "vscode": {
   "interpreter": {
    "hash": "e7370f93d1d0cde622a1f8e1c04877d8463912d04d973331ad4851f04de6915a"
   }
  }
 },
 "nbformat": 4,
 "nbformat_minor": 2
}
