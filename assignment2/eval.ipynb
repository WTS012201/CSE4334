{
 "cells": [
  {
   "cell_type": "code",
   "execution_count": 1,
   "metadata": {},
   "outputs": [],
   "source": [
    "from model import CNN\n",
    "import torch\n",
    "import torch.nn as nn\n",
    "import torchvision.datasets as datasets\n",
    "import torchvision.transforms as transforms\n",
    "from torch.utils.data import DataLoader\n",
    "import torch.optim as optim\n",
    "import matplotlib.pyplot as plt\n",
    "import numpy as np\n",
    "\n",
    "CHANNELS_D = 3\n",
    "\n",
    "img_size = 400\n",
    "device = \"cuda\" if torch.cuda.is_available() else \"cpu\"\n",
    "model_name = \"model.pth\"\n",
    "data_dir = \"~/Documents/datasets/archive/caltech101_classification/\"\n",
    "\n",
    "classes = [\"Motorcycle\", \"Airplane\", \"Schooner\"]"
   ]
  },
  {
   "cell_type": "code",
   "execution_count": 2,
   "metadata": {},
   "outputs": [],
   "source": [
    "def norm_transforms(dir):\n",
    "    transform = transforms.Compose(\n",
    "        [\n",
    "            transforms.Resize((img_size, img_size)),\n",
    "            transforms.ToTensor(),\n",
    "        ]\n",
    "    )\n",
    "    dataset = datasets.ImageFolder(root=dir, transform=transform)\n",
    "    # concat image data (CxWxH) in tensor, discard labels\n",
    "    imgs = torch.stack([img_t for img_t, _ in dataset], dim=3)\n",
    "    # flatten the three channels of all images and take the mean\n",
    "    mean = np.array([m for m in imgs.view(3, -1).mean(dim=1)])\n",
    "    std = np.array([s for s in imgs.view(3, -1).std(dim=1)])\n",
    "\n",
    "    norm = transforms.Normalize(\n",
    "        mean = mean,\n",
    "        std = std\n",
    "    )\n",
    "    unorm = transforms.Normalize(\n",
    "        mean = -(mean/std),\n",
    "        std = (1 / std)\n",
    "    )\n",
    "    \n",
    "    return norm, unorm\n",
    "\n",
    "norm, unorm = norm_transforms(data_dir)"
   ]
  },
  {
   "cell_type": "code",
   "execution_count": 3,
   "metadata": {},
   "outputs": [],
   "source": [
    "def load_data(dir):\n",
    "    transform = transforms.Compose(\n",
    "        [\n",
    "            transforms.Resize((img_size, img_size)),\n",
    "            transforms.ToTensor(),\n",
    "            norm,\n",
    "        ]\n",
    "    )\n",
    "    dataset = datasets.ImageFolder(\n",
    "        root=dir,\n",
    "        transform=transform)\n",
    "\n",
    "    train_size = int(0.6 * len(dataset))\n",
    "    test_val_size = len(dataset) - train_size\n",
    "    train_data, test_val_data = torch.utils.data.random_split(dataset, [train_size, test_val_size])\n",
    "\n",
    "    val_size = int(0.5 * len(test_val_data))\n",
    "    test_size = len(test_val_data) - val_size\n",
    "    val_data, test_data = torch.utils.data.random_split(test_val_data, [val_size, test_size])\n",
    "    \n",
    "    return train_data, val_data, test_data\n",
    "train_data, val_data, test_data = load_data(\"~/Documents/datasets/archive/caltech101_classification/\")"
   ]
  },
  {
   "cell_type": "code",
   "execution_count": 4,
   "metadata": {},
   "outputs": [],
   "source": [
    "def gen_layers(num_layers, expansion):\n",
    "    layers = []\n",
    "    in_channels = 3\n",
    "    \n",
    "    for i in range(num_layers):\n",
    "        out_channels = expansion(in_channels)\n",
    "        # out_channels = expansion * in_channels\n",
    "        layers += [nn.Conv2d(in_channels, out_channels, kernel_size=5, padding=2)]\n",
    "        layers += [nn.ReLU()]\n",
    "        layers += [nn.MaxPool2d(2, 2)]\n",
    "        in_channels = out_channels\n",
    "\n",
    "    # num params\n",
    "    # print(((img_size // (2 ** num_layers)) ** 2) * in_channels)\n",
    "    fcl = ((img_size // (2 ** num_layers)) ** 2) * in_channels\n",
    "    layers += [nn.Flatten(1), nn.Linear(fcl, 256), nn.ReLU()]\n",
    "    layers += [nn.Linear(256, 3), nn.ReLU()]\n",
    "    \n",
    "    return nn.Sequential(*layers)\n",
    "\n",
    "class CNN(nn.Module):\n",
    "    def __init__(self, num_layers, expansion):\n",
    "        super().__init__()\n",
    "        self.expansion = expansion\n",
    "        self.num_layers = num_layers\n",
    "        self.net = nn.Sequential(\n",
    "            gen_layers(self.num_layers, self.expansion)\n",
    "        )\n",
    "\n",
    "    def forward(self, x):\n",
    "        return self.net(x)"
   ]
  },
  {
   "cell_type": "code",
   "execution_count": 5,
   "metadata": {},
   "outputs": [],
   "source": [
    "def train(model, train_data, batch, epochs, lr):\n",
    "    CHANNELS_D = 3\n",
    "    # LEARNING_RATE = 1e-4\n",
    "\n",
    "    loader = DataLoader(train_data, batch_size=batch, shuffle=True, num_workers=2)\n",
    "    device = \"cuda\" if torch.cuda.is_available() else \"cpu\"\n",
    "    criterion = torch.nn.CrossEntropyLoss()\n",
    "    optimizer = optim.SGD(model.parameters(), lr=lr)\n",
    "\n",
    "    losses = []\n",
    "    for epoch in range(epochs):\n",
    "        running_loss = 0.0\n",
    "        for i, (imgs, labels) in enumerate(loader):\n",
    "            inputs, labels = imgs.to(device), labels.to(device)\n",
    "            optimizer.zero_grad()\n",
    "\n",
    "            outputs = model(inputs)\n",
    "            loss = criterion(outputs, labels)\n",
    "            loss.backward()\n",
    "            optimizer.step()\n",
    "\n",
    "            running_loss += loss.item()\n",
    "        print(f'epoch: {epoch + 1} loss: {running_loss / batch:.3f}')\n",
    "        losses.append((epoch, float(f\"{(running_loss / batch):.3f}\")))\n",
    "        running_loss = 0.0\n",
    "    \n",
    "    return losses\n",
    "\n",
    "def save(model, path):\n",
    "    torch.save(model.state_dict(), path)"
   ]
  },
  {
   "cell_type": "code",
   "execution_count": 6,
   "metadata": {},
   "outputs": [],
   "source": [
    "def sample(model, test_data):\n",
    "    with torch.no_grad():\n",
    "        figure = plt.figure(figsize=(10, 8))\n",
    "        cols, rows = 4, 4\n",
    "        correct = 0\n",
    "\n",
    "        for i in range(1, cols * rows + 1):\n",
    "            rand = torch.randint(len(test_data), size=(1,)).item()\n",
    "            img, label = test_data[rand]\n",
    "            img_input = img.to(device).unsqueeze(0)\n",
    "\n",
    "            figure.add_subplot(rows, cols, i)\n",
    "            img = unorm(img)\n",
    "            npimg = np.transpose(img.numpy(), (1, 2, 0))\n",
    "\n",
    "            plt.title(f\"({i}) {classes[label]}\")\n",
    "            plt.axis(\"off\",)\n",
    "            plt.imshow((npimg * 255).astype(np.uint8))\n",
    "\n",
    "            pred = model(img_input).to('cpu')\n",
    "\n",
    "            _, pred = torch.max(pred.squeeze(), 0)\n",
    "    \n",
    "            print(f\"({i}) Prediction: {classes[pred.item()]}, Actual: {classes[label]}\")\n",
    "            correct += classes[pred.item()] == classes[label]\n",
    "        \n",
    "        print(f\"\\n {correct} / {cols * rows} correct -> {correct / (cols * rows) * 100} %\")\n",
    "        plt.show()"
   ]
  },
  {
   "cell_type": "code",
   "execution_count": 7,
   "metadata": {},
   "outputs": [],
   "source": [
    "def eval(model, data):\n",
    "    with torch.no_grad():\n",
    "        correct = 0\n",
    "\n",
    "        for (img, label) in data:\n",
    "            img_input = img.to(device).unsqueeze(0)\n",
    "\n",
    "            pred = model(img_input).to('cpu')\n",
    "            _, pred = torch.max(pred.squeeze(), 0)\n",
    "            \n",
    "            correct += classes[pred.item()] == classes[label]\n",
    "        return round((correct / len(data) * 100), 3)\n",
    "\n"
   ]
  },
  {
   "cell_type": "code",
   "execution_count": 8,
   "metadata": {},
   "outputs": [],
   "source": [
    "runs, expansions = [], []\n",
    "num_layers = 5\n",
    "# recursive expressions to use for expanding feature map from conv layer (number of kernels)\n",
    "expansions.append(lambda x: x + 7)\n",
    "expansions.append(lambda x: x + 13)\n",
    "expansions.append(lambda x: x*2 if x < 20 else x + (x // 2))\n",
    "expansions.append(lambda x: x*3 if x < 50 else x + (x // 3))\n",
    "\n",
    "# for n in range(num_layers):\n",
    "#     for expr in expansions:\n",
    "#         model = CNN(n + 1, expr).to(device)\n",
    "#         losses = train(model, train_data, batch=100, epochs=25, lr=1e-4)\n",
    "#         accuracy = eval(model, val_data)\n",
    "#         runs.append((n, expr, losses, accuracy))"
   ]
  },
  {
   "cell_type": "code",
   "execution_count": 164,
   "metadata": {},
   "outputs": [
    {
     "name": "stdout",
     "output_type": "stream",
     "text": [
      "3->9->27->81->108->144->192 accuracy: 92.771\n"
     ]
    },
    {
     "ename": "IndexError",
     "evalue": "index 5 is out of bounds for axis 0 with size 5",
     "output_type": "error",
     "traceback": [
      "\u001b[0;31m---------------------------------------------------------------------------\u001b[0m",
      "\u001b[0;31mIndexError\u001b[0m                                Traceback (most recent call last)",
      "\u001b[1;32m/home/will/Documents/school/cse4334/assignment2/eval.ipynb Cell 9\u001b[0m in \u001b[0;36m<cell line: 21>\u001b[0;34m()\u001b[0m\n\u001b[1;32m     <a href='vscode-notebook-cell:/home/will/Documents/school/cse4334/assignment2/eval.ipynb#X12sZmlsZQ%3D%3D?line=17'>18</a>\u001b[0m         axs[n_lay]\u001b[39m.\u001b[39mset(xlabel\u001b[39m=\u001b[39m\u001b[39m\"\u001b[39m\u001b[39mEpoch\u001b[39m\u001b[39m\"\u001b[39m, ylabel\u001b[39m=\u001b[39m\u001b[39m\"\u001b[39m\u001b[39mLoss\u001b[39m\u001b[39m\"\u001b[39m)\n\u001b[1;32m     <a href='vscode-notebook-cell:/home/will/Documents/school/cse4334/assignment2/eval.ipynb#X12sZmlsZQ%3D%3D?line=18'>19</a>\u001b[0m     plt\u001b[39m.\u001b[39mshow()\n\u001b[0;32m---> <a href='vscode-notebook-cell:/home/will/Documents/school/cse4334/assignment2/eval.ipynb#X12sZmlsZQ%3D%3D?line=20'>21</a>\u001b[0m plot_losses(runs)\n",
      "\u001b[1;32m/home/will/Documents/school/cse4334/assignment2/eval.ipynb Cell 9\u001b[0m in \u001b[0;36mplot_losses\u001b[0;34m(runs)\u001b[0m\n\u001b[1;32m     <a href='vscode-notebook-cell:/home/will/Documents/school/cse4334/assignment2/eval.ipynb#X12sZmlsZQ%3D%3D?line=12'>13</a>\u001b[0m     conv_seq \u001b[39m+\u001b[39m\u001b[39m=\u001b[39m \u001b[39mf\u001b[39m\u001b[39m\"\u001b[39m\u001b[39m->\u001b[39m\u001b[39m{\u001b[39;00m\u001b[39mstr\u001b[39m(prior)\u001b[39m}\u001b[39;00m\u001b[39m\"\u001b[39m\n\u001b[1;32m     <a href='vscode-notebook-cell:/home/will/Documents/school/cse4334/assignment2/eval.ipynb#X12sZmlsZQ%3D%3D?line=13'>14</a>\u001b[0m \u001b[39mprint\u001b[39m(\u001b[39mf\u001b[39m\u001b[39m\"\u001b[39m\u001b[39m{\u001b[39;00mconv_seq\u001b[39m}\u001b[39;00m\u001b[39m accuracy: \u001b[39m\u001b[39m{\u001b[39;00maccuracy\u001b[39m}\u001b[39;00m\u001b[39m\"\u001b[39m)\n\u001b[0;32m---> <a href='vscode-notebook-cell:/home/will/Documents/school/cse4334/assignment2/eval.ipynb#X12sZmlsZQ%3D%3D?line=14'>15</a>\u001b[0m axs[n_lay]\u001b[39m.\u001b[39mplot(\u001b[39m*\u001b[39m\u001b[39mzip\u001b[39m(\u001b[39m*\u001b[39mepoch_loss), label\u001b[39m=\u001b[39m\u001b[39mf\u001b[39m\u001b[39m\"\u001b[39m\u001b[39mFeature Map Expansion: \u001b[39m\u001b[39m{\u001b[39;00mconv_seq\u001b[39m}\u001b[39;00m\u001b[39m\"\u001b[39m)\n\u001b[1;32m     <a href='vscode-notebook-cell:/home/will/Documents/school/cse4334/assignment2/eval.ipynb#X12sZmlsZQ%3D%3D?line=15'>16</a>\u001b[0m axs[n_lay]\u001b[39m.\u001b[39mset_title(\u001b[39mf\u001b[39m\u001b[39m\"\u001b[39m\u001b[39m{\u001b[39;00mn_lay \u001b[39m+\u001b[39m \u001b[39m1\u001b[39m\u001b[39m}\u001b[39;00m\u001b[39m Conv Layers\u001b[39m\u001b[39m\"\u001b[39m)\n\u001b[1;32m     <a href='vscode-notebook-cell:/home/will/Documents/school/cse4334/assignment2/eval.ipynb#X12sZmlsZQ%3D%3D?line=16'>17</a>\u001b[0m axs[n_lay]\u001b[39m.\u001b[39mlegend()\n",
      "\u001b[0;31mIndexError\u001b[0m: index 5 is out of bounds for axis 0 with size 5"
     ]
    },
    {
     "data": {
      "image/png": "[encoded data removed]",
      "text/plain": [
       "<Figure size 864x2160 with 5 Axes>"
      ]
     },
     "metadata": {
      "needs_background": "light"
     },
     "output_type": "display_data"
    }
   ],
   "source": [
    "import math\n",
    "\n",
    "#[(n, expr, [(epoch, loss)...])]\n",
    "\n",
    "def plot_losses(runs):\n",
    "    fig, axs = plt.subplots(num_layers, figsize=(12,30), gridspec_kw={'hspace': 0,})\n",
    "\n",
    "    for (n_lay, expr, epoch_loss, accuracy) in runs:\n",
    "        prior = CHANNELS_D\n",
    "        conv_seq = str(prior)\n",
    "        for i in range(n_lay+1):\n",
    "            prior = expr(prior)\n",
    "            conv_seq += f\"->{str(prior)}\"\n",
    "        print(f\"{conv_seq} accuracy: {accuracy}\")\n",
    "        axs[n_lay].plot(*zip(*epoch_loss), label=f\"Feature Map Expansion: {conv_seq}\")\n",
    "        axs[n_lay].set_title(f\"{n_lay + 1} Conv Layers\")\n",
    "        axs[n_lay].legend()\n",
    "        axs[n_lay].set(xlabel=\"Epoch\", ylabel=\"Loss\")\n",
    "    plt.show()\n",
    "    \n",
    "# plot_losses(runs)"
   ]
  },
  {
   "cell_type": "code",
   "execution_count": 176,
   "metadata": {},
   "outputs": [
    {
     "ename": "RuntimeError",
     "evalue": "CUDA out of memory. Tried to allocate 978.00 MiB (GPU 0; 7.93 GiB total capacity; 5.10 GiB already allocated; 417.00 MiB free; 6.40 GiB reserved in total by PyTorch) If reserved memory is >> allocated memory try setting max_split_size_mb to avoid fragmentation.  See documentation for Memory Management and PYTORCH_CUDA_ALLOC_CONF",
     "output_type": "error",
     "traceback": [
      "\u001b[0;31m---------------------------------------------------------------------------\u001b[0m",
      "\u001b[0;31mRuntimeError\u001b[0m                              Traceback (most recent call last)",
      "\u001b[1;32m/home/will/Documents/school/cse4334/assignment2/eval.ipynb Cell 10\u001b[0m in \u001b[0;36m<cell line: 11>\u001b[0;34m()\u001b[0m\n\u001b[1;32m      <a href='vscode-notebook-cell:/home/will/Documents/school/cse4334/assignment2/eval.ipynb#X41sZmlsZQ%3D%3D?line=8'>9</a>\u001b[0m runs \u001b[39m=\u001b[39m []\n\u001b[1;32m     <a href='vscode-notebook-cell:/home/will/Documents/school/cse4334/assignment2/eval.ipynb#X41sZmlsZQ%3D%3D?line=9'>10</a>\u001b[0m model \u001b[39m=\u001b[39m CNN(\u001b[39m2\u001b[39m, expansions[\u001b[39m1\u001b[39m])\u001b[39m.\u001b[39mto(device)\n\u001b[0;32m---> <a href='vscode-notebook-cell:/home/will/Documents/school/cse4334/assignment2/eval.ipynb#X41sZmlsZQ%3D%3D?line=10'>11</a>\u001b[0m losses \u001b[39m=\u001b[39m train(model, train_data, batch\u001b[39m=\u001b[39;49m\u001b[39m100\u001b[39;49m, epochs\u001b[39m=\u001b[39;49m\u001b[39m25\u001b[39;49m, lr\u001b[39m=\u001b[39;49m\u001b[39m1e-3\u001b[39;49m)\n\u001b[1;32m     <a href='vscode-notebook-cell:/home/will/Documents/school/cse4334/assignment2/eval.ipynb#X41sZmlsZQ%3D%3D?line=11'>12</a>\u001b[0m accuracy \u001b[39m=\u001b[39m \u001b[39meval\u001b[39m(model, val_data)\n\u001b[1;32m     <a href='vscode-notebook-cell:/home/will/Documents/school/cse4334/assignment2/eval.ipynb#X41sZmlsZQ%3D%3D?line=12'>13</a>\u001b[0m runs\u001b[39m.\u001b[39mappend((\u001b[39m2\u001b[39m, expr, losses, accuracy))\n",
      "\u001b[1;32m/home/will/Documents/school/cse4334/assignment2/eval.ipynb Cell 10\u001b[0m in \u001b[0;36mtrain\u001b[0;34m(model, train_data, batch, epochs, lr)\u001b[0m\n\u001b[1;32m     <a href='vscode-notebook-cell:/home/will/Documents/school/cse4334/assignment2/eval.ipynb#X41sZmlsZQ%3D%3D?line=13'>14</a>\u001b[0m inputs, labels \u001b[39m=\u001b[39m imgs\u001b[39m.\u001b[39mto(device), labels\u001b[39m.\u001b[39mto(device)\n\u001b[1;32m     <a href='vscode-notebook-cell:/home/will/Documents/school/cse4334/assignment2/eval.ipynb#X41sZmlsZQ%3D%3D?line=14'>15</a>\u001b[0m optimizer\u001b[39m.\u001b[39mzero_grad()\n\u001b[0;32m---> <a href='vscode-notebook-cell:/home/will/Documents/school/cse4334/assignment2/eval.ipynb#X41sZmlsZQ%3D%3D?line=16'>17</a>\u001b[0m outputs \u001b[39m=\u001b[39m model(inputs)\n\u001b[1;32m     <a href='vscode-notebook-cell:/home/will/Documents/school/cse4334/assignment2/eval.ipynb#X41sZmlsZQ%3D%3D?line=17'>18</a>\u001b[0m loss \u001b[39m=\u001b[39m criterion(outputs, labels)\n\u001b[1;32m     <a href='vscode-notebook-cell:/home/will/Documents/school/cse4334/assignment2/eval.ipynb#X41sZmlsZQ%3D%3D?line=18'>19</a>\u001b[0m loss\u001b[39m.\u001b[39mbackward()\n",
      "File \u001b[0;32m~/.local/lib/python3.10/site-packages/torch/nn/modules/module.py:1130\u001b[0m, in \u001b[0;36mModule._call_impl\u001b[0;34m(self, *input, **kwargs)\u001b[0m\n\u001b[1;32m   1126\u001b[0m \u001b[39m# If we don't have any hooks, we want to skip the rest of the logic in\u001b[39;00m\n\u001b[1;32m   1127\u001b[0m \u001b[39m# this function, and just call forward.\u001b[39;00m\n\u001b[1;32m   1128\u001b[0m \u001b[39mif\u001b[39;00m \u001b[39mnot\u001b[39;00m (\u001b[39mself\u001b[39m\u001b[39m.\u001b[39m_backward_hooks \u001b[39mor\u001b[39;00m \u001b[39mself\u001b[39m\u001b[39m.\u001b[39m_forward_hooks \u001b[39mor\u001b[39;00m \u001b[39mself\u001b[39m\u001b[39m.\u001b[39m_forward_pre_hooks \u001b[39mor\u001b[39;00m _global_backward_hooks\n\u001b[1;32m   1129\u001b[0m         \u001b[39mor\u001b[39;00m _global_forward_hooks \u001b[39mor\u001b[39;00m _global_forward_pre_hooks):\n\u001b[0;32m-> 1130\u001b[0m     \u001b[39mreturn\u001b[39;00m forward_call(\u001b[39m*\u001b[39;49m\u001b[39minput\u001b[39;49m, \u001b[39m*\u001b[39;49m\u001b[39m*\u001b[39;49mkwargs)\n\u001b[1;32m   1131\u001b[0m \u001b[39m# Do not call functions when jit is used\u001b[39;00m\n\u001b[1;32m   1132\u001b[0m full_backward_hooks, non_full_backward_hooks \u001b[39m=\u001b[39m [], []\n",
      "\u001b[1;32m/home/will/Documents/school/cse4334/assignment2/eval.ipynb Cell 10\u001b[0m in \u001b[0;36mCNN.forward\u001b[0;34m(self, x)\u001b[0m\n\u001b[1;32m     <a href='vscode-notebook-cell:/home/will/Documents/school/cse4334/assignment2/eval.ipynb#X41sZmlsZQ%3D%3D?line=29'>30</a>\u001b[0m \u001b[39mdef\u001b[39;00m \u001b[39mforward\u001b[39m(\u001b[39mself\u001b[39m, x):\n\u001b[0;32m---> <a href='vscode-notebook-cell:/home/will/Documents/school/cse4334/assignment2/eval.ipynb#X41sZmlsZQ%3D%3D?line=30'>31</a>\u001b[0m     \u001b[39mreturn\u001b[39;00m \u001b[39mself\u001b[39;49m\u001b[39m.\u001b[39;49mnet(x)\n",
      "File \u001b[0;32m~/.local/lib/python3.10/site-packages/torch/nn/modules/module.py:1130\u001b[0m, in \u001b[0;36mModule._call_impl\u001b[0;34m(self, *input, **kwargs)\u001b[0m\n\u001b[1;32m   1126\u001b[0m \u001b[39m# If we don't have any hooks, we want to skip the rest of the logic in\u001b[39;00m\n\u001b[1;32m   1127\u001b[0m \u001b[39m# this function, and just call forward.\u001b[39;00m\n\u001b[1;32m   1128\u001b[0m \u001b[39mif\u001b[39;00m \u001b[39mnot\u001b[39;00m (\u001b[39mself\u001b[39m\u001b[39m.\u001b[39m_backward_hooks \u001b[39mor\u001b[39;00m \u001b[39mself\u001b[39m\u001b[39m.\u001b[39m_forward_hooks \u001b[39mor\u001b[39;00m \u001b[39mself\u001b[39m\u001b[39m.\u001b[39m_forward_pre_hooks \u001b[39mor\u001b[39;00m _global_backward_hooks\n\u001b[1;32m   1129\u001b[0m         \u001b[39mor\u001b[39;00m _global_forward_hooks \u001b[39mor\u001b[39;00m _global_forward_pre_hooks):\n\u001b[0;32m-> 1130\u001b[0m     \u001b[39mreturn\u001b[39;00m forward_call(\u001b[39m*\u001b[39;49m\u001b[39minput\u001b[39;49m, \u001b[39m*\u001b[39;49m\u001b[39m*\u001b[39;49mkwargs)\n\u001b[1;32m   1131\u001b[0m \u001b[39m# Do not call functions when jit is used\u001b[39;00m\n\u001b[1;32m   1132\u001b[0m full_backward_hooks, non_full_backward_hooks \u001b[39m=\u001b[39m [], []\n",
      "File \u001b[0;32m~/.local/lib/python3.10/site-packages/torch/nn/modules/container.py:139\u001b[0m, in \u001b[0;36mSequential.forward\u001b[0;34m(self, input)\u001b[0m\n\u001b[1;32m    137\u001b[0m \u001b[39mdef\u001b[39;00m \u001b[39mforward\u001b[39m(\u001b[39mself\u001b[39m, \u001b[39minput\u001b[39m):\n\u001b[1;32m    138\u001b[0m     \u001b[39mfor\u001b[39;00m module \u001b[39min\u001b[39;00m \u001b[39mself\u001b[39m:\n\u001b[0;32m--> 139\u001b[0m         \u001b[39minput\u001b[39m \u001b[39m=\u001b[39m module(\u001b[39minput\u001b[39;49m)\n\u001b[1;32m    140\u001b[0m     \u001b[39mreturn\u001b[39;00m \u001b[39minput\u001b[39m\n",
      "File \u001b[0;32m~/.local/lib/python3.10/site-packages/torch/nn/modules/module.py:1130\u001b[0m, in \u001b[0;36mModule._call_impl\u001b[0;34m(self, *input, **kwargs)\u001b[0m\n\u001b[1;32m   1126\u001b[0m \u001b[39m# If we don't have any hooks, we want to skip the rest of the logic in\u001b[39;00m\n\u001b[1;32m   1127\u001b[0m \u001b[39m# this function, and just call forward.\u001b[39;00m\n\u001b[1;32m   1128\u001b[0m \u001b[39mif\u001b[39;00m \u001b[39mnot\u001b[39;00m (\u001b[39mself\u001b[39m\u001b[39m.\u001b[39m_backward_hooks \u001b[39mor\u001b[39;00m \u001b[39mself\u001b[39m\u001b[39m.\u001b[39m_forward_hooks \u001b[39mor\u001b[39;00m \u001b[39mself\u001b[39m\u001b[39m.\u001b[39m_forward_pre_hooks \u001b[39mor\u001b[39;00m _global_backward_hooks\n\u001b[1;32m   1129\u001b[0m         \u001b[39mor\u001b[39;00m _global_forward_hooks \u001b[39mor\u001b[39;00m _global_forward_pre_hooks):\n\u001b[0;32m-> 1130\u001b[0m     \u001b[39mreturn\u001b[39;00m forward_call(\u001b[39m*\u001b[39;49m\u001b[39minput\u001b[39;49m, \u001b[39m*\u001b[39;49m\u001b[39m*\u001b[39;49mkwargs)\n\u001b[1;32m   1131\u001b[0m \u001b[39m# Do not call functions when jit is used\u001b[39;00m\n\u001b[1;32m   1132\u001b[0m full_backward_hooks, non_full_backward_hooks \u001b[39m=\u001b[39m [], []\n",
      "File \u001b[0;32m~/.local/lib/python3.10/site-packages/torch/nn/modules/container.py:139\u001b[0m, in \u001b[0;36mSequential.forward\u001b[0;34m(self, input)\u001b[0m\n\u001b[1;32m    137\u001b[0m \u001b[39mdef\u001b[39;00m \u001b[39mforward\u001b[39m(\u001b[39mself\u001b[39m, \u001b[39minput\u001b[39m):\n\u001b[1;32m    138\u001b[0m     \u001b[39mfor\u001b[39;00m module \u001b[39min\u001b[39;00m \u001b[39mself\u001b[39m:\n\u001b[0;32m--> 139\u001b[0m         \u001b[39minput\u001b[39m \u001b[39m=\u001b[39m module(\u001b[39minput\u001b[39;49m)\n\u001b[1;32m    140\u001b[0m     \u001b[39mreturn\u001b[39;00m \u001b[39minput\u001b[39m\n",
      "File \u001b[0;32m~/.local/lib/python3.10/site-packages/torch/nn/modules/module.py:1130\u001b[0m, in \u001b[0;36mModule._call_impl\u001b[0;34m(self, *input, **kwargs)\u001b[0m\n\u001b[1;32m   1126\u001b[0m \u001b[39m# If we don't have any hooks, we want to skip the rest of the logic in\u001b[39;00m\n\u001b[1;32m   1127\u001b[0m \u001b[39m# this function, and just call forward.\u001b[39;00m\n\u001b[1;32m   1128\u001b[0m \u001b[39mif\u001b[39;00m \u001b[39mnot\u001b[39;00m (\u001b[39mself\u001b[39m\u001b[39m.\u001b[39m_backward_hooks \u001b[39mor\u001b[39;00m \u001b[39mself\u001b[39m\u001b[39m.\u001b[39m_forward_hooks \u001b[39mor\u001b[39;00m \u001b[39mself\u001b[39m\u001b[39m.\u001b[39m_forward_pre_hooks \u001b[39mor\u001b[39;00m _global_backward_hooks\n\u001b[1;32m   1129\u001b[0m         \u001b[39mor\u001b[39;00m _global_forward_hooks \u001b[39mor\u001b[39;00m _global_forward_pre_hooks):\n\u001b[0;32m-> 1130\u001b[0m     \u001b[39mreturn\u001b[39;00m forward_call(\u001b[39m*\u001b[39;49m\u001b[39minput\u001b[39;49m, \u001b[39m*\u001b[39;49m\u001b[39m*\u001b[39;49mkwargs)\n\u001b[1;32m   1131\u001b[0m \u001b[39m# Do not call functions when jit is used\u001b[39;00m\n\u001b[1;32m   1132\u001b[0m full_backward_hooks, non_full_backward_hooks \u001b[39m=\u001b[39m [], []\n",
      "File \u001b[0;32m~/.local/lib/python3.10/site-packages/torch/nn/modules/activation.py:98\u001b[0m, in \u001b[0;36mReLU.forward\u001b[0;34m(self, input)\u001b[0m\n\u001b[1;32m     97\u001b[0m \u001b[39mdef\u001b[39;00m \u001b[39mforward\u001b[39m(\u001b[39mself\u001b[39m, \u001b[39minput\u001b[39m: Tensor) \u001b[39m-\u001b[39m\u001b[39m>\u001b[39m Tensor:\n\u001b[0;32m---> 98\u001b[0m     \u001b[39mreturn\u001b[39;00m F\u001b[39m.\u001b[39;49mrelu(\u001b[39minput\u001b[39;49m, inplace\u001b[39m=\u001b[39;49m\u001b[39mself\u001b[39;49m\u001b[39m.\u001b[39;49minplace)\n",
      "File \u001b[0;32m~/.local/lib/python3.10/site-packages/torch/nn/functional.py:1457\u001b[0m, in \u001b[0;36mrelu\u001b[0;34m(input, inplace)\u001b[0m\n\u001b[1;32m   1455\u001b[0m     result \u001b[39m=\u001b[39m torch\u001b[39m.\u001b[39mrelu_(\u001b[39minput\u001b[39m)\n\u001b[1;32m   1456\u001b[0m \u001b[39melse\u001b[39;00m:\n\u001b[0;32m-> 1457\u001b[0m     result \u001b[39m=\u001b[39m torch\u001b[39m.\u001b[39;49mrelu(\u001b[39minput\u001b[39;49m)\n\u001b[1;32m   1458\u001b[0m \u001b[39mreturn\u001b[39;00m result\n",
      "\u001b[0;31mRuntimeError\u001b[0m: CUDA out of memory. Tried to allocate 978.00 MiB (GPU 0; 7.93 GiB total capacity; 5.10 GiB already allocated; 417.00 MiB free; 6.40 GiB reserved in total by PyTorch) If reserved memory is >> allocated memory try setting max_split_size_mb to avoid fragmentation.  See documentation for Memory Management and PYTORCH_CUDA_ALLOC_CONF"
     ]
    }
   ],
   "source": [
    "# have to adjust learning rates for every n layers\n",
    "# lrs = {\n",
    "#     0: 1e-4,\n",
    "#     1: 1e-3,\n",
    "#     2: _,\n",
    "#     3: _,\n",
    "#     4: 0.05,\n",
    "# }\n",
    "runs = []\n",
    "model = CNN(2, expansions[1]).to(device)\n",
    "losses = train(model, train_data, batch=100, epochs=25, lr=1e-3)\n",
    "accuracy = eval(model, val_data)\n",
    "runs.append((2, expr, losses, accuracy))"
   ]
  },
  {
   "cell_type": "code",
   "execution_count": null,
   "metadata": {},
   "outputs": [],
   "source": []
  }
 ],
 "metadata": {
  "kernelspec": {
   "display_name": "Python 3.10.7 64-bit",
   "language": "python",
   "name": "python3"
  },
  "language_info": {
   "codemirror_mode": {
    "name": "ipython",
    "version": 3
   },
   "file_extension": ".py",
   "mimetype": "text/x-python",
   "name": "python",
   "nbconvert_exporter": "python",
   "pygments_lexer": "ipython3",
   "version": "3.10.7"
  },
  "orig_nbformat": 4,
  "vscode": {
   "interpreter": {
    "hash": "e7370f93d1d0cde622a1f8e1c04877d8463912d04d973331ad4851f04de6915a"
   }
  }
 },
 "nbformat": 4,
 "nbformat_minor": 2
}
